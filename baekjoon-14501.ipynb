{
 "cells": [
  {
   "cell_type": "code",
   "execution_count": 2,
   "metadata": {},
   "outputs": [
    {
     "name": "stdout",
     "output_type": "stream",
     "text": [
      "45\n"
     ]
    }
   ],
   "source": [
    "# 백준 14501\n",
    "\n",
    "# import sys\n",
    "# data = sys.stdin.read().splitlines()\n",
    "\n",
    "s=open(\"baekjoon-14501-data.txt\",\"rt\")\n",
    "data = s.read().splitlines()\n",
    "\n",
    "n = int(data[0])\n",
    "time = []\n",
    "cost = []\n",
    "total_cost = [0 for i in range(n+1)] # i번째에 일을 했을때 최대 수익\n",
    "\n",
    "\n",
    "for i in range(n):\n",
    "    temp = list(map(int, data[i+1].split(\" \")))\n",
    "    time.append(temp[0])\n",
    "    cost.append(temp[1])\n",
    "\n",
    "# 역순으로 진행한다. \n",
    "for i in range(len(time)-2, -1, -1):      \n",
    "    if time[i]+i <= n:       \n",
    "        # i번째 일을 할때 최대 가능 날짜를 초과하지 않을 경우.\n",
    "        total_cost[i] = max(cost[i] + total_cost[i + time[i]], total_cost[i+1])   \n",
    "    else:          \n",
    "        # 최대 날짜를 초과할 경우        \n",
    "        total_cost[i] = total_cost[i+1]\n",
    "\n",
    "print(total_cost[0])\n",
    "\n",
    "    "
   ]
  }
 ],
 "metadata": {
  "kernelspec": {
   "display_name": "Python 3",
   "language": "python",
   "name": "python3"
  },
  "language_info": {
   "codemirror_mode": {
    "name": "ipython",
    "version": 3
   },
   "file_extension": ".py",
   "mimetype": "text/x-python",
   "name": "python",
   "nbconvert_exporter": "python",
   "pygments_lexer": "ipython3",
   "version": "3.9.6"
  }
 },
 "nbformat": 4,
 "nbformat_minor": 2
}
