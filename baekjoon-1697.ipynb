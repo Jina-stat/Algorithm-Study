{
 "cells": [
  {
   "cell_type": "code",
   "execution_count": null,
   "metadata": {},
   "outputs": [
    {
     "data": {
      "text/plain": [
       "4"
      ]
     },
     "execution_count": 28,
     "metadata": {},
     "output_type": "execute_result"
    }
   ],
   "source": [
    "# 백준 1697\n",
    "from collections import deque\n",
    "n, k = map(int, input().split(\" \"))\n",
    "\n",
    "visited_list = [False] * 100001\n",
    "queue = deque([])\n",
    "\n",
    "def bfs(current, time, k):\n",
    "    queue.append((current, time))\n",
    "    visited_list[current] = True\n",
    "\n",
    "    while queue:\n",
    "        temp, time = queue.popleft()\n",
    "\n",
    "        if temp == k:\n",
    "            return time\n",
    "        \n",
    "        for next_pos in [temp+1, temp-1, 2 * temp]:\n",
    "\n",
    "            if 0 <= next_pos <= 100000 and not visited_list[next_pos]:  # 범위 및 방문 여부 확인\n",
    "                queue.append((next_pos, time + 1))\n",
    "                visited_list[next_pos] = True  # 방문 처리\n",
    "\n",
    "            \n",
    "print(bfs(n, 0, k))\n"
   ]
  }
 ],
 "metadata": {
  "kernelspec": {
   "display_name": "base",
   "language": "python",
   "name": "python3"
  },
  "language_info": {
   "codemirror_mode": {
    "name": "ipython",
    "version": 3
   },
   "file_extension": ".py",
   "mimetype": "text/x-python",
   "name": "python",
   "nbconvert_exporter": "python",
   "pygments_lexer": "ipython3",
   "version": "3.11.5"
  }
 },
 "nbformat": 4,
 "nbformat_minor": 2
}
