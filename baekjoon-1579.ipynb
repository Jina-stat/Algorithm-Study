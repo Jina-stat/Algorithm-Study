{
 "cells": [
  {
   "cell_type": "code",
   "execution_count": 24,
   "metadata": {},
   "outputs": [
    {
     "name": "stdout",
     "output_type": "stream",
     "text": [
      "75\n"
     ]
    }
   ],
   "source": [
    "# 백준 1579\n",
    "import sys\n",
    "# data = sys.stdin.read().splitlines()\n",
    "s = open(\"baekjoon-1579-data.txt\", \"rt\")\n",
    "data = s.read().splitlines()\n",
    "\n",
    "n = int(data[0])\n",
    "stair = [0]\n",
    "dp = [0] * (n + 1)\n",
    "\n",
    "\n",
    "for i in range(n):\n",
    "    stair.append(int(data[i + 1]))\n",
    "\n",
    "\n",
    "# DP 초기값 설정\n",
    "dp[1] = stair[1]\n",
    "\n",
    "# 예외 처리: 계단이 1개 또는 2개인 경우\n",
    "if n == 2:\n",
    "    dp[2] = stair[1] + stair[2]\n",
    "elif n >= 3:\n",
    "    dp[2] = stair[1] + stair[2]\n",
    "    for x in range(3, n+1):\n",
    "        dp[x] = max(dp[x-3] + stair[x-1] + stair[x], dp[x-2] + stair[x])\n",
    "          \n",
    "print(dp[n])\n",
    "\n"
   ]
  },
  {
   "cell_type": "code",
   "execution_count": null,
   "metadata": {},
   "outputs": [],
   "source": []
  }
 ],
 "metadata": {
  "kernelspec": {
   "display_name": "Python 3",
   "language": "python",
   "name": "python3"
  },
  "language_info": {
   "codemirror_mode": {
    "name": "ipython",
    "version": 3
   },
   "file_extension": ".py",
   "mimetype": "text/x-python",
   "name": "python",
   "nbconvert_exporter": "python",
   "pygments_lexer": "ipython3",
   "version": "3.9.6"
  }
 },
 "nbformat": 4,
 "nbformat_minor": 2
}
