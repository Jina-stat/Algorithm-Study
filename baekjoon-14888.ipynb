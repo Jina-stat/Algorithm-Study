{
 "cells": [
  {
   "cell_type": "code",
   "execution_count": null,
   "metadata": {},
   "outputs": [
    {
     "name": "stdout",
     "output_type": "stream",
     "text": [
      "54\n",
      "-24\n"
     ]
    }
   ],
   "source": [
    "# 백준 14888\n",
    "from itertools import permutations\n",
    "\n",
    "# s=open(\"baekjoon-14888-data.txt\",\"rt\")\n",
    "# data = s.read().splitlines()\n",
    "\n",
    "import sys\n",
    "data = sys.stdin.read().splitlines()\n",
    "\n",
    "n = int(data[0])\n",
    "number = list(map(int, data[1].split(\" \")))\n",
    "\n",
    "operation = list(map(int, data[2].split(\" \")))\n",
    "operation_list = []\n",
    "operation_list += [0] * operation[0]\n",
    "operation_list += [1] * operation[1]\n",
    "operation_list += [2] * operation[2]\n",
    "operation_list += [3] * operation[3]\n",
    "\n",
    "# 중복을 지우기위해 set() 중요\n",
    "operation_list_per = set(permutations(operation_list))\n",
    "\n",
    "cal_min = float(\"inf\")\n",
    "cal_max = float(\"-inf\")\n",
    "\n",
    "for oper in operation_list_per:\n",
    "    oper = list(oper)\n",
    "    cal = number[0]\n",
    "    for i in range(len(oper)):\n",
    "        if oper[i] == 0:\n",
    "            cal += number[i+1]\n",
    "        elif oper[i] == 1:\n",
    "            cal -= number[i+1]\n",
    "        elif oper[i] == 2:\n",
    "            cal *= number[i+1]\n",
    "        elif oper[i] == 3:\n",
    "            if cal < 0:\n",
    "                cal = -(abs(cal) // number[i + 1])\n",
    "            else:\n",
    "                cal //= number[i + 1]\n",
    "\n",
    "    cal_min = min(cal, cal_min)\n",
    "    cal_max = max(cal, cal_max)\n",
    "\n",
    "print(cal_max)\n",
    "print(cal_min)\n"
   ]
  }
 ],
 "metadata": {
  "kernelspec": {
   "display_name": "Python 3",
   "language": "python",
   "name": "python3"
  },
  "language_info": {
   "codemirror_mode": {
    "name": "ipython",
    "version": 3
   },
   "file_extension": ".py",
   "mimetype": "text/x-python",
   "name": "python",
   "nbconvert_exporter": "python",
   "pygments_lexer": "ipython3",
   "version": "3.10.6"
  }
 },
 "nbformat": 4,
 "nbformat_minor": 2
}
