{
 "cells": [
  {
   "cell_type": "code",
   "execution_count": 19,
   "metadata": {},
   "outputs": [
    {
     "name": "stdout",
     "output_type": "stream",
     "text": [
      "29\n"
     ]
    }
   ],
   "source": [
    "# 백준 2116\n",
    "\n",
    "import sys\n",
    "# data = sys.stdin.read().splitlines()\n",
    "\n",
    "s = open(\"baekjoon-2116-data.txt\", \"rt\")\n",
    "data = s.read().splitlines()\n",
    "\n",
    "n = int(data[0])\n",
    "dice = [[] for _ in range(n)]\n",
    "\n",
    "for i in range(n):\n",
    "    dice[i] += list(map(int, data[i + 1].split(\" \")))\n",
    "\n",
    "sum_max = 0\n",
    "dice_list = {\n",
    "    '0':'5',\n",
    "    '5':'0',\n",
    "    '3':'1',\n",
    "    '1':'3',\n",
    "    '2':'4',\n",
    "    '4':'2',\n",
    "}\n",
    "\n",
    "def dice_func(down, j):\n",
    "    up = dice[j][int(dice_list[str(dice[j].index(down))])]\n",
    "    temp = [1, 2, 3, 4, 5, 6]\n",
    "    temp.remove(up)\n",
    "    temp.remove(down)\n",
    "    return up, max(temp)\n",
    "\n",
    "sum_max = 0\n",
    "for i in range(1, 7):\n",
    "    sum_temp = 0\n",
    "    for j in range(n):\n",
    "        if j == 0:\n",
    "            up, temp = dice_func(i, j)\n",
    "        else:\n",
    "            up, temp = dice_func(up, j)\n",
    "        sum_temp += temp\n",
    "\n",
    "    sum_max = max(sum_max, sum_temp)\n",
    "\n",
    "print(sum_max)   \n",
    "\n"
   ]
  },
  {
   "cell_type": "code",
   "execution_count": null,
   "metadata": {},
   "outputs": [],
   "source": []
  }
 ],
 "metadata": {
  "kernelspec": {
   "display_name": "Python 3",
   "language": "python",
   "name": "python3"
  },
  "language_info": {
   "codemirror_mode": {
    "name": "ipython",
    "version": 3
   },
   "file_extension": ".py",
   "mimetype": "text/x-python",
   "name": "python",
   "nbconvert_exporter": "python",
   "pygments_lexer": "ipython3",
   "version": "3.9.6"
  }
 },
 "nbformat": 4,
 "nbformat_minor": 2
}
