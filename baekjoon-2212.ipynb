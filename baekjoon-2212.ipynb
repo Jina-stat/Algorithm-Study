{
 "cells": [
  {
   "cell_type": "code",
   "execution_count": 5,
   "metadata": {},
   "outputs": [
    {
     "name": "stdout",
     "output_type": "stream",
     "text": [
      "5\n"
     ]
    }
   ],
   "source": [
    "# 백준 2212\n",
    "import sys\n",
    "# data = sys.stdin.read().splitlines()\n",
    "s=open(\"baekjoon-2212-data.txt\",\"rt\")\n",
    "data = s.read().splitlines()\n",
    "\n",
    "n = int(data[0])\n",
    "m = int(data[1])\n",
    "line_list = list(map(int, data[2].split(\" \")))\n",
    "line_list.sort()\n",
    "dist_list = []\n",
    "\n",
    "for i in range(1, len(line_list)):\n",
    "    dist_list.append(line_list[i] - line_list[i-1])\n",
    "dist_list.sort(reverse = True)\n",
    "\n",
    "print(sum(dist_list[(m-1):]))\n"
   ]
  },
  {
   "cell_type": "code",
   "execution_count": null,
   "metadata": {},
   "outputs": [],
   "source": []
  }
 ],
 "metadata": {
  "kernelspec": {
   "display_name": "Python 3",
   "language": "python",
   "name": "python3"
  },
  "language_info": {
   "codemirror_mode": {
    "name": "ipython",
    "version": 3
   },
   "file_extension": ".py",
   "mimetype": "text/x-python",
   "name": "python",
   "nbconvert_exporter": "python",
   "pygments_lexer": "ipython3",
   "version": "3.9.6"
  }
 },
 "nbformat": 4,
 "nbformat_minor": 2
}
