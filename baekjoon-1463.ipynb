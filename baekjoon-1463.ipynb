{
 "cells": [
  {
   "cell_type": "code",
   "execution_count": null,
   "metadata": {},
   "outputs": [],
   "source": [
    "# 백준 1463\n",
    "\n",
    "import sys\n",
    "\n",
    "n = int(input())\n",
    "num = 0\n",
    "dp = [0] * (n + 1)\n",
    "\n",
    "for i in range(2, n + 1):\n",
    "    \n",
    "    if i % 6 == 0:\n",
    "        dp[i] = min(dp[i//2] + 1, dp[i//3] + 1, dp[i-1] + 1)\n",
    "        \n",
    "    elif i % 2 == 0:\n",
    "        dp[i] = min(dp[i//2] + 1, dp[i-1] + 1)\n",
    "        \n",
    "    elif i % 3 == 0:\n",
    "        dp[i] = min(dp[i//3] + 1, dp[i-1] + 1)\n",
    "        \n",
    "    else:\n",
    "        dp[i] = dp[i-1] + 1\n",
    "        \n",
    "print(dp[n])\n"
   ]
  }
 ],
 "metadata": {
  "kernelspec": {
   "display_name": "Python 3",
   "language": "python",
   "name": "python3"
  },
  "language_info": {
   "codemirror_mode": {
    "name": "ipython",
    "version": 3
   },
   "file_extension": ".py",
   "mimetype": "text/x-python",
   "name": "python",
   "nbconvert_exporter": "python",
   "pygments_lexer": "ipython3",
   "version": "3.9.6"
  }
 },
 "nbformat": 4,
 "nbformat_minor": 2
}
