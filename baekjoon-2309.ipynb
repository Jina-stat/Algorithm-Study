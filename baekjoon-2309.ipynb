{
 "cells": [
  {
   "cell_type": "code",
   "execution_count": 31,
   "metadata": {},
   "outputs": [
    {
     "name": "stdout",
     "output_type": "stream",
     "text": [
      "7\n",
      "8\n",
      "10\n",
      "13\n",
      "19\n",
      "20\n",
      "23\n"
     ]
    }
   ],
   "source": [
    "# 백준 2309\n",
    "import itertools\n",
    "# data = sys.stdin.read().splitlines()\n",
    "s=open(\"baekjoon-2309-data.txt\",\"rt\")\n",
    "data = s.read().splitlines()\n",
    "\n",
    "height = list(map(int, data))\n",
    "height_temp = list(itertools.permutations(height, 7))\n",
    "\n",
    "for i in height_temp:\n",
    "    if sum(i) == 100:\n",
    "        answer = list(i)\n",
    "        break\n",
    "\n",
    "answer.sort()\n",
    "for i in answer:\n",
    "    print(i)\n"
   ]
  }
 ],
 "metadata": {
  "kernelspec": {
   "display_name": "Python 3",
   "language": "python",
   "name": "python3"
  },
  "language_info": {
   "codemirror_mode": {
    "name": "ipython",
    "version": 3
   },
   "file_extension": ".py",
   "mimetype": "text/x-python",
   "name": "python",
   "nbconvert_exporter": "python",
   "pygments_lexer": "ipython3",
   "version": "3.9.6"
  }
 },
 "nbformat": 4,
 "nbformat_minor": 2
}
