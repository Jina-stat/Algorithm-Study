{
 "cells": [
  {
   "cell_type": "code",
   "execution_count": 51,
   "metadata": {},
   "outputs": [
    {
     "name": "stdout",
     "output_type": "stream",
     "text": [
      "238\n"
     ]
    }
   ],
   "source": [
    "# 백준 1495\n",
    "import sys\n",
    "from collections import deque\n",
    "sys.setrecursionlimit(10**6)\n",
    "\n",
    "# data = sys.stdin.read().splitlines()\n",
    "\n",
    "s = open(\"baekjoon-1495-data.txt\", \"rt\")\n",
    "data = s.read().splitlines()\n",
    "\n",
    "# 첫 번째 줄: 곡의 개수(n), 시작 볼륨(s), 최대 볼륨(m)\n",
    "n, s, m = map(int, data[0].split(\" \"))\n",
    "\n",
    "# 두 번째 줄: 각 곡에서의 볼륨 변경 값\n",
    "volume = list(map(int, data[1].split(\" \")))\n",
    "\n",
    "# DP 배열 초기화: 각 곡에서 가능한 볼륨을 저장 (중복 제거를 위해 `set` 사용)\n",
    "volume_list = [set() for i in range(n + 1)]\n",
    "volume_list[0].add(s)  # 시작 볼륨(s)을 첫 번째 단계의 가능한 값으로 설정\n",
    "answer = 0  # 정답을 저장할 변수\n",
    "\n",
    "# DP 진행\n",
    "for i in range(n):  # 각 곡에 대해\n",
    "    if len(volume_list[i]) == 0:  # 이전 단계에서 가능한 볼륨이 없으면 종료\n",
    "        break\n",
    "    else:\n",
    "        for j in volume_list[i]:  # 현재 단계의 가능한 볼륨들에 대해\n",
    "            temp = j  # 현재 볼륨\n",
    "            # 볼륨 감소 후 유효한 범위 내에 있는 경우\n",
    "            if 0 <= temp - volume[i] <= m:\n",
    "                volume_list[i + 1].add(temp - volume[i])\n",
    "            # 볼륨 증가 후 유효한 범위 내에 있는 경우\n",
    "            if 0 <= temp + volume[i] <= m:\n",
    "                volume_list[i + 1].add(temp + volume[i])\n",
    "\n",
    "# 결과 출력\n",
    "if volume_list[n]:  # 마지막 곡에서 가능한 볼륨이 있다면\n",
    "    print(max(volume_list[n]))  # 최대 볼륨 출력\n",
    "else:\n",
    "    print(-1)  # 가능한 볼륨이 없다면 -1 출력"
   ]
  }
 ],
 "metadata": {
  "kernelspec": {
   "display_name": "Python 3",
   "language": "python",
   "name": "python3"
  },
  "language_info": {
   "codemirror_mode": {
    "name": "ipython",
    "version": 3
   },
   "file_extension": ".py",
   "mimetype": "text/x-python",
   "name": "python",
   "nbconvert_exporter": "python",
   "pygments_lexer": "ipython3",
   "version": "3.9.6"
  }
 },
 "nbformat": 4,
 "nbformat_minor": 2
}
