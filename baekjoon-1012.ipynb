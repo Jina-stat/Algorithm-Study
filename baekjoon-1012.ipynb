{
 "cells": [
  {
   "cell_type": "code",
   "execution_count": 10,
   "metadata": {},
   "outputs": [
    {
     "name": "stdout",
     "output_type": "stream",
     "text": [
      "5\n",
      "1\n"
     ]
    }
   ],
   "source": [
    "# 백준 1012\n",
    "sys.setrecursionlimit(10**6)\n",
    "import sys\n",
    "data = sys.stdin.read().splitlines()\n",
    "\n",
    "# s = open(\"baekjoon-1012-data.txt\", \"rt\")\n",
    "# data = s.read().splitlines()\n",
    "\n",
    "t = int(data[0])  # 테스트 케이스 개수\n",
    "index = 1  # 다음 줄부터 읽기 시작\n",
    "\n",
    "for _ in range(t):\n",
    "    # 가로(m), 세로(n), 배추 개수(k)\n",
    "    m, n, k = map(int, data[index].split())\n",
    "    index += 1\n",
    "\n",
    "    # 그래프 초기화\n",
    "    graph = [[0 for _ in range(m)] for _ in range(n)]  # n x m 그래프\n",
    "    visited = [[0 for _ in range(m)] for _ in range(n)]\n",
    "\n",
    "    # 배추 위치 표시\n",
    "    for _ in range(k):\n",
    "        X, Y = map(int, data[index].split())\n",
    "        graph[Y][X] = 1  # (X, Y) 좌표를 graph[Y][X]에 매핑\n",
    "        index += 1\n",
    "\n",
    "    # 배추 그룹 수 세기\n",
    "    move = [(0, 1), (0, -1), (1, 0), (-1, 0)]  # 동, 서, 남, 북 이동\n",
    "    count = 0\n",
    "\n",
    "    def dfs(a, b):\n",
    "        visited[a][b] = 1\n",
    "        for dx, dy in move:\n",
    "            nx, ny = a + dx, b + dy\n",
    "            # 범위 검사: 0 <= nx < n, 0 <= ny < m\n",
    "            if 0 <= nx < n and 0 <= ny < m and graph[nx][ny] == 1 and visited[nx][ny] == 0:\n",
    "                dfs(nx, ny)\n",
    "\n",
    "    for a in range(n):\n",
    "        for b in range(m):\n",
    "            if graph[a][b] == 1 and visited[a][b] == 0:  # 배추가 있고 방문하지 않은 경우\n",
    "                dfs(a, b)\n",
    "                count += 1\n",
    "\n",
    "    print(count)\n"
   ]
  }
 ],
 "metadata": {
  "kernelspec": {
   "display_name": "Python 3",
   "language": "python",
   "name": "python3"
  },
  "language_info": {
   "codemirror_mode": {
    "name": "ipython",
    "version": 3
   },
   "file_extension": ".py",
   "mimetype": "text/x-python",
   "name": "python",
   "nbconvert_exporter": "python",
   "pygments_lexer": "ipython3",
   "version": "3.9.6"
  }
 },
 "nbformat": 4,
 "nbformat_minor": 2
}
