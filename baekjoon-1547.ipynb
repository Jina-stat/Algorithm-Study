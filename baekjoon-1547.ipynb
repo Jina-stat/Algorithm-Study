{
 "cells": [
  {
   "cell_type": "code",
   "execution_count": 7,
   "metadata": {},
   "outputs": [
    {
     "name": "stdout",
     "output_type": "stream",
     "text": [
      "1\n"
     ]
    }
   ],
   "source": [
    "# 백준 1547\n",
    "\n",
    "import sys\n",
    "data = sys.stdin.read().splitlines()\n",
    "\n",
    "# s=open(\"baekjoon-1547-data.txt\",\"rt\")\n",
    "# data = s.read().splitlines()\n",
    "\n",
    "n = int(data[0])\n",
    "current = 1\n",
    "for i in range(n):\n",
    "    cup1, cup2 = map(int, data[i + 1].split(\" \"))\n",
    "    # print(cup1, cup2, current)\n",
    "    if cup1 == current:\n",
    "        current = cup2\n",
    "    elif cup2 == current:\n",
    "        current = cup1\n",
    "\n",
    "print(current)"
   ]
  },
  {
   "cell_type": "code",
   "execution_count": null,
   "metadata": {},
   "outputs": [],
   "source": []
  }
 ],
 "metadata": {
  "kernelspec": {
   "display_name": "Python 3",
   "language": "python",
   "name": "python3"
  },
  "language_info": {
   "codemirror_mode": {
    "name": "ipython",
    "version": 3
   },
   "file_extension": ".py",
   "mimetype": "text/x-python",
   "name": "python",
   "nbconvert_exporter": "python",
   "pygments_lexer": "ipython3",
   "version": "3.9.6"
  }
 },
 "nbformat": 4,
 "nbformat_minor": 2
}
