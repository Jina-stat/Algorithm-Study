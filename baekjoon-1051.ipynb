{
 "cells": [
  {
   "cell_type": "code",
   "execution_count": null,
   "metadata": {},
   "outputs": [
    {
     "name": "stdout",
     "output_type": "stream",
     "text": [
      "9\n"
     ]
    }
   ],
   "source": [
    "# 백준 1051\n",
    "\n",
    "import sys\n",
    "data = sys.stdin.read().splitlines()\n",
    "\n",
    "# s=open(\"baekjoon-1051-data.txt\",\"rt\")\n",
    "# data = s.read().splitlines()\n",
    "\n",
    "n, m = map(int, data[0].split(\" \"))\n",
    "rectangular = []\n",
    "\n",
    "for i in range(n):\n",
    "    rectangular.append(list(map(int, data[i+1])))\n",
    "\n",
    "answer = 1\n",
    "for i in range(min(n, m), 1, -1):\n",
    "    found = False\n",
    "    bound_x = m - i\n",
    "    bound_y = n - i\n",
    "    for xx in range(bound_x + 1):\n",
    "        for yy in range(bound_y + 1):\n",
    "            if (rectangular[yy][xx] == rectangular[yy + i - 1][xx] and \n",
    "                rectangular[yy][xx] == rectangular[yy][xx + i - 1] and \n",
    "                rectangular[yy][xx] == rectangular[yy + i - 1][xx + i - 1]):\n",
    "                answer = i * i\n",
    "                found = True\n",
    "                break\n",
    "        if found:\n",
    "            break\n",
    "    if found:\n",
    "            break\n",
    "\n",
    "\n",
    "            \n",
    "print(answer)\n"
   ]
  }
 ],
 "metadata": {
  "kernelspec": {
   "display_name": "Python 3",
   "language": "python",
   "name": "python3"
  },
  "language_info": {
   "codemirror_mode": {
    "name": "ipython",
    "version": 3
   },
   "file_extension": ".py",
   "mimetype": "text/x-python",
   "name": "python",
   "nbconvert_exporter": "python",
   "pygments_lexer": "ipython3",
   "version": "3.10.6"
  }
 },
 "nbformat": 4,
 "nbformat_minor": 2
}
