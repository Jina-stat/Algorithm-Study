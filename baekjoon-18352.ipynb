{
 "cells": [
  {
   "cell_type": "code",
   "execution_count": 24,
   "metadata": {},
   "outputs": [
    {
     "name": "stdout",
     "output_type": "stream",
     "text": [
      "2\n",
      "3\n"
     ]
    }
   ],
   "source": [
    "from collections import deque\n",
    "# 백준 18352\n",
    "# s=open(\"baekjoon-18352-data.txt\",\"rt\")\n",
    "# data = s.read().splitlines()\n",
    "\n",
    "import sys\n",
    "data = sys.stdin.read().splitlines()\n",
    "\n",
    "n, m, k, x = map(int, data[0].split(\" \"))\n",
    "graph = [[] for i in range(n+1)] # direct gr\n",
    "short_dist = [0] * (n + 1)\n",
    "for i in range(m):\n",
    "    a, b = map(int, data[i + 1].split(\" \"))\n",
    "    graph[a].append(b)\n",
    "\n",
    "visited = set()\n",
    "stack = deque()\n",
    "\n",
    "def bfs(node):\n",
    "    dist_n = 0\n",
    "    visited.add(node)\n",
    "    stack.append(node)\n",
    "\n",
    "    while stack:\n",
    "        temp_node = stack.popleft()\n",
    "        \n",
    "        for i in graph[temp_node]:\n",
    "            if i not in visited:\n",
    "                short_dist[i] = short_dist[temp_node] + 1\n",
    "                stack.append(i)\n",
    "                visited.add(i)\n",
    "                \n",
    "\n",
    "bfs(x)\n",
    "\n",
    "if k in short_dist:\n",
    "    for i in range(len(short_dist)):\n",
    "        if short_dist[i] == k:\n",
    "            print(i)\n",
    "else:\n",
    "    print(-1)\n",
    "\n"
   ]
  },
  {
   "cell_type": "code",
   "execution_count": null,
   "metadata": {},
   "outputs": [],
   "source": []
  },
  {
   "cell_type": "code",
   "execution_count": null,
   "metadata": {},
   "outputs": [],
   "source": []
  }
 ],
 "metadata": {
  "kernelspec": {
   "display_name": "Python 3",
   "language": "python",
   "name": "python3"
  },
  "language_info": {
   "codemirror_mode": {
    "name": "ipython",
    "version": 3
   },
   "file_extension": ".py",
   "mimetype": "text/x-python",
   "name": "python",
   "nbconvert_exporter": "python",
   "pygments_lexer": "ipython3",
   "version": "3.9.6"
  }
 },
 "nbformat": 4,
 "nbformat_minor": 2
}
