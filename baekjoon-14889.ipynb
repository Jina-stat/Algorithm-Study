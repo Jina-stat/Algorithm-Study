{
 "cells": [
  {
   "cell_type": "code",
   "execution_count": 24,
   "metadata": {},
   "outputs": [
    {
     "name": "stdout",
     "output_type": "stream",
     "text": [
      "1\n"
     ]
    }
   ],
   "source": [
    "import sys\n",
    "import itertools\n",
    "\n",
    "s=open(\"baekjoon-14889-data.txt\",\"rt\")\n",
    "data = s.read().splitlines()\n",
    "# data = sys.stdin.read().splitlines()\n",
    "\n",
    "n = int(data[0])\n",
    "team = []\n",
    "for i in range(n):\n",
    "    team.append(list(map(int, data[i + 1].split(\" \"))))\n",
    "\n",
    "# 1. 먼저 combinations을 통해 두 팀으로 나눌수 있는 모든 경우의 수를 고른다. \n",
    "team_list = list(itertools.combinations(range(n), n//2))\n",
    "check = []\n",
    "score = float('inf')\n",
    "for i in team_list:\n",
    "        start = list(i)\n",
    "        link = list(set(range(n)) - set(i))\n",
    "\n",
    "        start_score = 0\n",
    "        link_score = 0\n",
    "        \n",
    "        # 2. 팀안에서 두명씩 뽑아서 두사람의 능력치를 팀 능력치에 더한다. \n",
    "        for m, l in list(itertools.combinations(start, 2)):\n",
    "            start_score += team[m][l]\n",
    "            start_score += team[l][m]\n",
    "        \n",
    "        for m, l in list(itertools.combinations(link, 2)):\n",
    "            link_score += team[m][l]\n",
    "            link_score += team[l][m]\n",
    "            \n",
    "\t\t\t\t# 3. 팀 능력치의 차이를 구하고 기존의 최소보다 작으면 update 한다.  \n",
    "        score = min(score, abs(start_score-link_score))\n",
    "\n",
    "print(score)\n"
   ]
  }
 ],
 "metadata": {
  "kernelspec": {
   "display_name": "Python 3",
   "language": "python",
   "name": "python3"
  },
  "language_info": {
   "codemirror_mode": {
    "name": "ipython",
    "version": 3
   },
   "file_extension": ".py",
   "mimetype": "text/x-python",
   "name": "python",
   "nbconvert_exporter": "python",
   "pygments_lexer": "ipython3",
   "version": "3.9.6"
  }
 },
 "nbformat": 4,
 "nbformat_minor": 2
}
