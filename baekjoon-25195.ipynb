{
 "cells": [
  {
   "cell_type": "code",
   "execution_count": 26,
   "metadata": {},
   "outputs": [
    {
     "name": "stdout",
     "output_type": "stream",
     "text": [
      "yes\n"
     ]
    }
   ],
   "source": [
    "# 백준 25195\n",
    "import sys\n",
    "sys.setrecursionlimit(10**6)\n",
    "\n",
    "s=open(\"baekjoon-25195-data.txt\",\"rt\")\n",
    "data = s.read().splitlines()\n",
    "\n",
    "# import sys\n",
    "# data = sys.stdin.read().splitlines()\n",
    "\n",
    "n, m = map(int, data[0].split(\" \"))\n",
    "graph = [[] for i in range(n + 1)]\n",
    "\n",
    "for i in range(m):\n",
    "    a, b = map(int, data[i + 1].split(\" \"))\n",
    "    graph[a].append(b)\n",
    "\n",
    "num_fan = int(data[m + 1])\n",
    "fan_list = set(map(int, data[-1].split(\" \")))  # 빠른 탐색을 위해 set으로 변환\n",
    "meet = False\n",
    "\n",
    "visited = [0] * (n + 1)\n",
    "\n",
    "def dfs(node):\n",
    "    global meet\n",
    "    visited[node] = 1\n",
    "\n",
    "    if node not in fan_list:\n",
    "        if len(graph[node]) == 0:  # 더 이상 갈 수 있는 경로가 없을 경우\n",
    "            meet = True\n",
    "            return\n",
    "        else:\n",
    "            for temp in graph[node]:\n",
    "                if visited[temp] == 0 and not meet:  # 이미 경로를 찾았으면 탐색 중단\n",
    "                    dfs(temp)\n",
    "\n",
    "dfs(1)\n",
    "\n",
    "if meet:\n",
    "    print(\"yes\")\n",
    "else:\n",
    "    print(\"Yes\")"
   ]
  },
  {
   "cell_type": "code",
   "execution_count": null,
   "metadata": {},
   "outputs": [],
   "source": []
  }
 ],
 "metadata": {
  "kernelspec": {
   "display_name": "Python 3",
   "language": "python",
   "name": "python3"
  },
  "language_info": {
   "codemirror_mode": {
    "name": "ipython",
    "version": 3
   },
   "file_extension": ".py",
   "mimetype": "text/x-python",
   "name": "python",
   "nbconvert_exporter": "python",
   "pygments_lexer": "ipython3",
   "version": "3.9.6"
  }
 },
 "nbformat": 4,
 "nbformat_minor": 2
}
