{
 "cells": [
  {
   "cell_type": "code",
   "execution_count": 26,
   "metadata": {},
   "outputs": [
    {
     "name": "stdout",
     "output_type": "stream",
     "text": [
      "13\n"
     ]
    }
   ],
   "source": [
    "# 백준 31926\n",
    "\n",
    "n = int(input())\n",
    "\n",
    "# 첫 daldidalgo 만드는데 필요한 횟수: 8번\n",
    "\n",
    "\n",
    "# daldidalgo * n 을 만드는데 필요한 횟수는 \n",
    "# 2^{m-1} < n <= 2^{m} 의 n 에 대해서는 m 번 필요하다. \n",
    "# 예를들어, 7번 : 1 -> 2 -> 4 -> 7 (최대로 2배로 복사 후, 나머지 필요한만큼 더해줌)\n",
    "\n",
    "if n == 1:\n",
    "    print(8 + 2)  # daldida + n\n",
    "else:\n",
    "    i = 1\n",
    "    while True:\n",
    "        # 2^(i-1) < n <= 2^i를 만족하는지 확인\n",
    "        if pow(2, i-1) < n < pow(2, i):\n",
    "            print(8 + i + 2 - 1)  # 8 + 반복횟수 + 마지막 daldida (마지막 반복에 마지막 daldida 가 같이 넣을 수 있음.  )\n",
    "            break\n",
    "        elif n == pow(2, i):\n",
    "            print(8 + i + 2)  \n",
    "            break\n",
    "        else:\n",
    "            i += 1\n",
    "\n"
   ]
  }
 ],
 "metadata": {
  "kernelspec": {
   "display_name": "Python 3",
   "language": "python",
   "name": "python3"
  },
  "language_info": {
   "codemirror_mode": {
    "name": "ipython",
    "version": 3
   },
   "file_extension": ".py",
   "mimetype": "text/x-python",
   "name": "python",
   "nbconvert_exporter": "python",
   "pygments_lexer": "ipython3",
   "version": "3.9.6"
  }
 },
 "nbformat": 4,
 "nbformat_minor": 2
}
