{
 "cells": [
  {
   "cell_type": "code",
   "execution_count": 14,
   "metadata": {},
   "outputs": [
    {
     "name": "stdout",
     "output_type": "stream",
     "text": [
      "50\n"
     ]
    }
   ],
   "source": [
    "# 백준 12026\n",
    "\n",
    "import sys\n",
    "data = sys.stdin.read().splitlines()\n",
    "\n",
    "# s = open(\"baekjoon-12026-data.txt\", \"rt\")\n",
    "# data = s.read().splitlines()\n",
    "\n",
    "n = int(data[0])  \n",
    "block = [\"\"] + list(data[1])  # 1-based 인덱스\n",
    "dp = [float('inf')] * (n + 1)\n",
    "dp[1] = 0  # 시작점은 에너지 0\n",
    "\n",
    "for i in range(2, n + 1):\n",
    "    # 점프 규칙을 B -> O -> J 순으로 반영\n",
    "    if block[i] == \"B\":\n",
    "        for j in range(1, i):\n",
    "            if block[j] == \"J\":  # \"J\"에서 \"B\"로 점프 가능\n",
    "                dp[i] = min(dp[i], dp[j] + (i - j) ** 2)\n",
    "    elif block[i] == \"O\":\n",
    "        for j in range(1, i):\n",
    "            if block[j] == \"B\":  # \"B\"에서 \"O\"로 점프 가능\n",
    "                dp[i] = min(dp[i], dp[j] + (i - j) ** 2)\n",
    "    elif block[i] == \"J\":\n",
    "        for j in range(1, i):\n",
    "            if block[j] == \"O\":  # \"O\"에서 \"J\"로 점프 가능\n",
    "                dp[i] = min(dp[i], dp[j] + (i - j) ** 2)\n",
    "\n",
    "# 만약 dp[n]이 여전히 무한대라면, 링크의 집에 도달할 수 없으므로 -1 출력\n",
    "if dp[n] == float('inf'):\n",
    "    print(-1)\n",
    "else:\n",
    "    print(dp[n])  # 마지막 보도블록에 도달하는 최소 에너지 출력"
   ]
  },
  {
   "cell_type": "code",
   "execution_count": null,
   "metadata": {},
   "outputs": [],
   "source": [
    "import sys\n",
    "data = sys.stdin.read().splitlines()\n",
    "\n",
    "n = int(data[0])  \n",
    "block = [\"\"] + list(data[1])  # 1-based 인덱싱을 위해 첫 번째 요소에 빈 문자열 추가\n",
    "dp = [float('inf')] * (n + 1)  # 최소 에너지 배열을 무한대로 초기화\n",
    "dp[1] = 0  # 시작점에서 에너지는 0\n",
    "\n",
    "# 각 보도블록에 대해 점프 가능한 최소 에너지를 계산\n",
    "for i in range(2, n + 1):\n",
    "    for j in range(1, i):\n",
    "        # 점프 규칙을 B -> O, O -> J, J -> B 순으로 반영\n",
    "        if (block[j] == \"B\" and block[i] == \"O\") or \\\n",
    "           (block[j] == \"O\" and block[i] == \"J\") or \\\n",
    "           (block[j] == \"J\" and block[i] == \"B\"):\n",
    "            dp[i] = min(dp[i], dp[j] + (i - j) ** 2)\n",
    "\n",
    "# 만약 dp[n]이 여전히 무한대라면, 링크의 집에 도달할 수 없으므로 -1 출력\n",
    "if dp[n] == float('inf'):\n",
    "    print(-1)\n",
    "else:\n",
    "    print(dp[n])  # 마지막 보도블록에 도달하는 최소 에너지 출력"
   ]
  }
 ],
 "metadata": {
  "kernelspec": {
   "display_name": "Python 3",
   "language": "python",
   "name": "python3"
  },
  "language_info": {
   "codemirror_mode": {
    "name": "ipython",
    "version": 3
   },
   "file_extension": ".py",
   "mimetype": "text/x-python",
   "name": "python",
   "nbconvert_exporter": "python",
   "pygments_lexer": "ipython3",
   "version": "3.9.6"
  }
 },
 "nbformat": 4,
 "nbformat_minor": 2
}
