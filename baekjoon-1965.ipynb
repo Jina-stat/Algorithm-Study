{
 "cells": [
  {
   "cell_type": "code",
   "execution_count": 19,
   "metadata": {},
   "outputs": [
    {
     "name": "stdout",
     "output_type": "stream",
     "text": [
      "10\n"
     ]
    }
   ],
   "source": [
    "import sys\n",
    "data = sys.stdin.read().splitlines()\n",
    "\n",
    "\n",
    "n = int(data[0]) \n",
    "box_list = [0] + list(map(int, data[1].split(\" \")))  # Adding a 0 at the beginning for 1-indexing\n",
    "dp = [1] * (n + 1)  # Initialize dp array with 1\n",
    "\n",
    "for i in range(2, n + 1):\n",
    "    for j in range(i - 1, 0, -1):\n",
    "        if box_list[i] > box_list[j]:\n",
    "            dp[i] = max(dp[i], dp[j] + 1)  # Update dp[i] with the max subsequence length\n",
    "\n",
    "print(max(dp))"
   ]
  },
  {
   "cell_type": "code",
   "execution_count": null,
   "metadata": {},
   "outputs": [],
   "source": []
  }
 ],
 "metadata": {
  "kernelspec": {
   "display_name": "Python 3",
   "language": "python",
   "name": "python3"
  },
  "language_info": {
   "codemirror_mode": {
    "name": "ipython",
    "version": 3
   },
   "file_extension": ".py",
   "mimetype": "text/x-python",
   "name": "python",
   "nbconvert_exporter": "python",
   "pygments_lexer": "ipython3",
   "version": "3.9.6"
  }
 },
 "nbformat": 4,
 "nbformat_minor": 2
}
