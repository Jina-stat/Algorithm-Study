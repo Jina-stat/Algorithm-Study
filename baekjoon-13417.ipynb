{
 "cells": [
  {
   "cell_type": "code",
   "execution_count": 10,
   "metadata": {},
   "outputs": [
    {
     "name": "stdout",
     "output_type": "stream",
     "text": [
      "KMU\n",
      "ASDFG\n",
      "AAABCBC\n"
     ]
    }
   ],
   "source": [
    "# 백준 13417\n",
    "\n",
    "import sys\n",
    "data = sys.stdin.read().splitlines()\n",
    "\n",
    "# s=open(\"baekjoon-13417-data.txt\",\"rt\")\n",
    "# data = s.read().splitlines()\n",
    "\n",
    "\n",
    "n = int(data[0])\n",
    "for i in range(n):\n",
    "    m = int(data[2 * i + 1])\n",
    "    card = list(map(str, data[2 * i + 2].split(\" \")))\n",
    "    answer = card[0]\n",
    "    for temp in card[1:]:\n",
    "        if answer[0] < temp:\n",
    "            answer += temp\n",
    "        else:\n",
    "            answer = temp + answer\n",
    "    print(answer)\n",
    "\n"
   ]
  }
 ],
 "metadata": {
  "kernelspec": {
   "display_name": "Python 3",
   "language": "python",
   "name": "python3"
  },
  "language_info": {
   "codemirror_mode": {
    "name": "ipython",
    "version": 3
   },
   "file_extension": ".py",
   "mimetype": "text/x-python",
   "name": "python",
   "nbconvert_exporter": "python",
   "pygments_lexer": "ipython3",
   "version": "3.9.6"
  }
 },
 "nbformat": 4,
 "nbformat_minor": 2
}
