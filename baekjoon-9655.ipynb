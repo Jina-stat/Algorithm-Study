{
 "cells": [
  {
   "cell_type": "code",
   "execution_count": 6,
   "metadata": {},
   "outputs": [
    {
     "name": "stdout",
     "output_type": "stream",
     "text": [
      "SK\n"
     ]
    }
   ],
   "source": [
    "# 백준 9655\n",
    "n = int(input())\n",
    "\n",
    "x, y = divmod(n, 3)\n",
    "if (x + y) % 2 == 0:\n",
    "    print(\"CY\")\n",
    "else:\n",
    "    print(\"SK\")"
   ]
  }
 ],
 "metadata": {
  "kernelspec": {
   "display_name": "base",
   "language": "python",
   "name": "python3"
  },
  "language_info": {
   "codemirror_mode": {
    "name": "ipython",
    "version": 3
   },
   "file_extension": ".py",
   "mimetype": "text/x-python",
   "name": "python",
   "nbconvert_exporter": "python",
   "pygments_lexer": "ipython3",
   "version": "3.11.5"
  }
 },
 "nbformat": 4,
 "nbformat_minor": 2
}
