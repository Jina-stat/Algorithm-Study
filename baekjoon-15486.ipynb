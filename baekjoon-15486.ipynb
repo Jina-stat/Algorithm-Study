{
 "cells": [
  {
   "cell_type": "code",
   "execution_count": null,
   "metadata": {},
   "outputs": [
    {
     "name": "stdout",
     "output_type": "stream",
     "text": [
      "5\n",
      "1\n"
     ]
    }
   ],
   "source": [
    "import sys\n",
    "input = sys.stdin.read\n",
    "data = input().splitlines()\n",
    "\n",
    "n = int(data[0])\n",
    "time = []\n",
    "profit = []\n",
    "for i in range(n):\n",
    "    t, p = map(int, data[i + 1].split())\n",
    "    time.append(t)\n",
    "    profit.append(p)\n",
    "\n",
    "# DP 배열 초기화\n",
    "dp = [0] * (n + 2)  # n+1일 이후는 의미 없으므로 n+2까지 잡음\n",
    "\n",
    "# DP 계산\n",
    "for i in range(1, n + 1):\n",
    "    # 이전 최대 수익을 현재까지 반영\n",
    "    dp[i] = max(dp[i], dp[i - 1])\n",
    "\n",
    "    # 일을 할 수 있는 경우\n",
    "    if i + time[i - 1] <= n + 1:  # i일 + 소요시간이 퇴사일 이내\n",
    "        dp[i + time[i - 1]] = max(dp[i + time[i - 1]], dp[i] + profit[i - 1])\n",
    "\n",
    "# 결과 출력\n",
    "print(max(dp))"
   ]
  }
 ],
 "metadata": {
  "kernelspec": {
   "display_name": "Python 3",
   "language": "python",
   "name": "python3"
  },
  "language_info": {
   "codemirror_mode": {
    "name": "ipython",
    "version": 3
   },
   "file_extension": ".py",
   "mimetype": "text/x-python",
   "name": "python",
   "nbconvert_exporter": "python",
   "pygments_lexer": "ipython3",
   "version": "3.9.6"
  }
 },
 "nbformat": 4,
 "nbformat_minor": 2
}
