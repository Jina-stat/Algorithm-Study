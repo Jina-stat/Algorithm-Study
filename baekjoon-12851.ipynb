{
 "cells": [
  {
   "cell_type": "code",
   "execution_count": 12,
   "metadata": {},
   "outputs": [
    {
     "name": "stdout",
     "output_type": "stream",
     "text": [
      "4\n",
      "2\n"
     ]
    }
   ],
   "source": [
    "from collections import deque\n",
    "\n",
    "def find_min_time_and_ways(n, k):\n",
    "    max_limit = 100001  # 위치의 최대값\n",
    "    visited = [-1] * max_limit  # 최소 시간 기록 (처음에는 -1로 초기화)\n",
    "    ways = [0] * max_limit  # 해당 위치에 도달하는 방법의 수 기록\n",
    "\n",
    "    # BFS 초기화\n",
    "    queue = deque([n])\n",
    "    visited[n] = 0  # 시작 위치에서 걸린 시간: 0\n",
    "    ways[n] = 1  # 시작 위치로 가는 방법은 1가지\n",
    "    \n",
    "    while queue:\n",
    "        current = queue.popleft()\n",
    "        \n",
    "        for next_pos in (current - 1, current + 1, current * 2):\n",
    "            if 0 <= next_pos < max_limit:  # 유효한 범위 내에서만 동작\n",
    "                # 방문하지 않은 위치라면\n",
    "                if visited[next_pos] == -1:\n",
    "                    visited[next_pos] = visited[current] + 1  # 최소 시간 갱신\n",
    "                    ways[next_pos] = ways[current]  # (Note!) 경로의 수를 현재 위치에서 가져옴\n",
    "                    queue.append(next_pos)\n",
    "                # 이미 방문한 위치인데 최소 시간으로 도달할 수 있다면\n",
    "                elif visited[next_pos] == visited[current] + 1:\n",
    "                    ways[next_pos] += ways[current]  # 경로의 수를 누적\n",
    "    \n",
    "    return visited[k], ways[k]\n",
    "\n",
    "# 입력 및 실행\n",
    "n, k = map(int, input().split())\n",
    "min_time, num_ways = find_min_time_and_ways(n, k)\n",
    "print(min_time)\n",
    "print(num_ways)\n"
   ]
  }
 ],
 "metadata": {
  "kernelspec": {
   "display_name": "Python 3",
   "language": "python",
   "name": "python3"
  },
  "language_info": {
   "codemirror_mode": {
    "name": "ipython",
    "version": 3
   },
   "file_extension": ".py",
   "mimetype": "text/x-python",
   "name": "python",
   "nbconvert_exporter": "python",
   "pygments_lexer": "ipython3",
   "version": "3.9.6"
  }
 },
 "nbformat": 4,
 "nbformat_minor": 2
}
