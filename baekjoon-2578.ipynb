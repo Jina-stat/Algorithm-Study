{
 "cells": [
  {
   "cell_type": "code",
   "execution_count": 28,
   "metadata": {},
   "outputs": [
    {
     "name": "stdout",
     "output_type": "stream",
     "text": [
      "15\n"
     ]
    },
    {
     "name": "stderr",
     "output_type": "stream",
     "text": [
      "/var/folders/nr/ffrtfc7135jb78dkl0vvr9xw0000gn/T/ipykernel_1093/2564885986.py:26: DeprecationWarning: Conversion of an array with ndim > 0 to a scalar is deprecated, and will error in future. Ensure you extract a single element from your array before performing this operation. (Deprecated NumPy 1.25.)\n",
      "  bingo_list[int(np.where(my_list == host_list[i])[0])][int(np.where(my_list == host_list[i])[1])] = 1\n"
     ]
    }
   ],
   "source": [
    "# 백준 2578\n",
    "import numpy as np\n",
    "\n",
    "# s=open(\"baekjoon-2578-data.txt\",\"rt\")\n",
    "# data = s.read().splitlines()\n",
    "\n",
    "import sys\n",
    "data = sys.stdin.read().splitlines()\n",
    "\n",
    "my_list = []\n",
    "host_list = []\n",
    "bingo_list = [[0, 0, 0, 0, 0] for _ in range(5)]\n",
    "bingo_num = 0\n",
    "\n",
    "\n",
    "for i in range(5):\n",
    "    my_list.append(list(map(int, data[i].split(\" \")))) \n",
    "    host_list += list(map(int, data[i + 5].split(\" \")))\n",
    "\n",
    "bingo_list = np.array(bingo_list)\n",
    "my_list = np.array(my_list)\n",
    "\n",
    "\n",
    "for i in range(len(host_list)):\n",
    "    bingo_num = 0\n",
    "    bingo_list[int(np.where(my_list == host_list[i])[0])][int(np.where(my_list == host_list[i])[1])] = 1\n",
    "    \n",
    "    #가로 & 세로\n",
    "    sum0 = bingo_list.sum(axis = 0)\n",
    "    sum1 = bingo_list.sum(axis = 1)\n",
    "\n",
    "    for j in range(5):\n",
    "        if sum0[j] == 5:\n",
    "            bingo_num += 1\n",
    "        if sum1[j] == 5:\n",
    "            bingo_num += 1\n",
    "\n",
    "    # 대각선\n",
    "    if bingo_list[0][0] == bingo_list[1][1] == bingo_list[2][2] == bingo_list[3][3] == bingo_list[4][4] == 1:\n",
    "        bingo_num += 1\n",
    "    if bingo_list[0][4] == bingo_list[1][3] == bingo_list[2][2] == bingo_list[3][1] == bingo_list[4][0] == 1:\n",
    "        bingo_num += 1\n",
    "\n",
    "\n",
    "    if bingo_num >= 3:\n",
    "        print(i + 1)\n",
    "\n",
    "        break\n",
    "    \n"
   ]
  },
  {
   "cell_type": "code",
   "execution_count": 1,
   "metadata": {},
   "outputs": [
    {
     "name": "stdout",
     "output_type": "stream",
     "text": [
      "15\n"
     ]
    }
   ],
   "source": [
    "# numpy 사용 안하고 \n",
    "\n",
    "# 백준 2578\n",
    "\n",
    "# s=open(\"baekjoon-2578-data.txt\",\"rt\")\n",
    "# data = s.read().splitlines()\n",
    "\n",
    "import sys\n",
    "data = sys.stdin.read().splitlines()\n",
    "\n",
    "my_list = []\n",
    "host_list = []\n",
    "bingo_list = [[0, 0, 0, 0, 0] for _ in range(5)]\n",
    "bingo_num = 0\n",
    "\n",
    "\n",
    "for i in range(5):\n",
    "    my_list.append(list(map(int, data[i].split(\" \")))) \n",
    "    host_list += list(map(int, data[i + 5].split(\" \")))\n",
    "\n",
    "\n",
    "\n",
    "for i in range(len(host_list)):\n",
    "    bingo_num = 0\n",
    "    \n",
    "    for m in range(5):\n",
    "        for n in range(5):\n",
    "            if my_list[m][n] == host_list[i]:\n",
    "                bingo_list[m][n] = 1\n",
    "    \n",
    "    #가로 & 세로\n",
    "    \n",
    "    for j in range(5):\n",
    "        sum0 = sum(bingo_list[j][:])\n",
    "        sum1 = 0\n",
    "        for m in range(5):\n",
    "            sum1 += bingo_list[m][j]\n",
    "        if sum0 == 5:\n",
    "            bingo_num += 1\n",
    "        if sum1 == 5:\n",
    "            bingo_num += 1\n",
    "    \n",
    "    # 대각선\n",
    "    if bingo_list[0][0] == bingo_list[1][1] == bingo_list[2][2] == bingo_list[3][3] == bingo_list[4][4] == 1:\n",
    "        bingo_num += 1\n",
    "    if bingo_list[0][4] == bingo_list[1][3] == bingo_list[2][2] == bingo_list[3][1] == bingo_list[4][0] == 1:\n",
    "        bingo_num += 1\n",
    "\n",
    "\n",
    "    if bingo_num >= 3:\n",
    "        print(i + 1)\n",
    "\n",
    "        break\n",
    "    \n"
   ]
  }
 ],
 "metadata": {
  "kernelspec": {
   "display_name": "Python 3",
   "language": "python",
   "name": "python3"
  },
  "language_info": {
   "codemirror_mode": {
    "name": "ipython",
    "version": 3
   },
   "file_extension": ".py",
   "mimetype": "text/x-python",
   "name": "python",
   "nbconvert_exporter": "python",
   "pygments_lexer": "ipython3",
   "version": "3.9.6"
  }
 },
 "nbformat": 4,
 "nbformat_minor": 2
}
