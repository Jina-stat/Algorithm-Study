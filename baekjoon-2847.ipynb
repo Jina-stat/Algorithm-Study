{
 "cells": [
  {
   "cell_type": "code",
   "execution_count": 23,
   "metadata": {},
   "outputs": [
    {
     "name": "stdout",
     "output_type": "stream",
     "text": [
      "3\n"
     ]
    }
   ],
   "source": [
    "# 백준 2847\n",
    "\n",
    "import sys\n",
    "data = sys.stdin.read().splitlines()\n",
    "\n",
    "# s=open(\"baekjoon-2847-data.txt\",\"rt\")\n",
    "# data = s.read().splitlines()\n",
    "\n",
    "n = int(data[0])\n",
    "score = []\n",
    "down_num = 0\n",
    "\n",
    "for i in data[1:]:\n",
    "    score.append(int(i))\n",
    "\n",
    "for i in range(len(score), 1, -1):\n",
    "    if score[i-1] - score[i-2] <= 0:\n",
    "        down_num += score[i-2] - score[i-1] + 1\n",
    "        score[i-2] = score[i-1] - 1\n",
    "\n",
    "print(down_num)"
   ]
  }
 ],
 "metadata": {
  "kernelspec": {
   "display_name": "Python 3",
   "language": "python",
   "name": "python3"
  },
  "language_info": {
   "codemirror_mode": {
    "name": "ipython",
    "version": 3
   },
   "file_extension": ".py",
   "mimetype": "text/x-python",
   "name": "python",
   "nbconvert_exporter": "python",
   "pygments_lexer": "ipython3",
   "version": "3.9.6"
  }
 },
 "nbformat": 4,
 "nbformat_minor": 2
}
