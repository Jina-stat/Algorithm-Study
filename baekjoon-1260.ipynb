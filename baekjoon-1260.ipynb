{
 "cells": [
  {
   "cell_type": "code",
   "execution_count": 24,
   "metadata": {},
   "outputs": [
    {
     "name": "stdout",
     "output_type": "stream",
     "text": [
      "[1000, 999]\n",
      "[1000, 999]\n"
     ]
    }
   ],
   "source": [
    "# 백준 1260\n",
    "\n",
    "# import sys\n",
    "# data = sys.stdin.read().splitlines()\n",
    "from collections import deque\n",
    "\n",
    "s=open(\"baekjoon-1260-data.txt\",\"rt\")\n",
    "data = s.read().splitlines()\n",
    "\n",
    "n, m, start = map(int, data[0].split(\" \"))\n",
    "graph = [[]for _ in range(n + 1)]\n",
    "\n",
    "for i in range(m):\n",
    "    u, v = map(int, data[i + 1].split(\" \"))\n",
    "    graph[u].append(v)\n",
    "    graph[v].append(u)\n",
    "\n",
    "# 입력 단계에서 그래프를 정렬\n",
    "for i in range(1, n + 1):\n",
    "    graph[i].sort()\n",
    "\n",
    "\n",
    "# BFS: stack에 탐색할 node를 저장해 두기\n",
    "visited_bfs = [0 for i in range(n + 1)]\n",
    "answer_bfs = []\n",
    "\n",
    "def bfs(node):\n",
    "    queue = deque([])\n",
    "    visited_bfs[node] = 1\n",
    "    queue.append(node)\n",
    "\n",
    "    while queue:\n",
    "        temp = queue.popleft()\n",
    "        answer_bfs.append(temp)\n",
    "        \n",
    "        for i in graph[temp]:\n",
    "            if visited_bfs[i] == 0:\n",
    "                visited_bfs[i] = 1\n",
    "                queue.append(i)\n",
    "\n",
    "\n",
    "# DFS:\n",
    "visited_dfs = [0 for i in range(n + 1)]\n",
    "answer_dfs = []\n",
    "def dfs(node):\n",
    "    visited_dfs[node] = 1\n",
    "    answer_dfs.append(node)\n",
    "\n",
    "    for i in graph[node]:\n",
    "        if visited_dfs[i] == 0:\n",
    "            dfs(i)\n",
    "    \n",
    "\n",
    "\n",
    "bfs(start)\n",
    "dfs(start)\n",
    "print(\" \".join(map(str, answer_dfs)))\n",
    "print(\" \".join(map(str, answer_bfs)))\n",
    "\n",
    "\n"
   ]
  }
 ],
 "metadata": {
  "kernelspec": {
   "display_name": "Python 3",
   "language": "python",
   "name": "python3"
  },
  "language_info": {
   "codemirror_mode": {
    "name": "ipython",
    "version": 3
   },
   "file_extension": ".py",
   "mimetype": "text/x-python",
   "name": "python",
   "nbconvert_exporter": "python",
   "pygments_lexer": "ipython3",
   "version": "3.9.6"
  }
 },
 "nbformat": 4,
 "nbformat_minor": 2
}
