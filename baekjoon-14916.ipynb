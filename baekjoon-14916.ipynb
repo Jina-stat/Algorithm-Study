{
 "cells": [
  {
   "cell_type": "code",
   "execution_count": null,
   "metadata": {},
   "outputs": [
    {
     "name": "stdout",
     "output_type": "stream",
     "text": [
      "3\n",
      "-1\n"
     ]
    }
   ],
   "source": [
    "# 백준 14916\n",
    "\n",
    "coin = int(input())\n",
    "num = 0\n",
    "\n",
    "while coin > 0:\n",
    "    if coin % 2 == 1:\n",
    "        if coin >= 5:\n",
    "            coin -= 5\n",
    "            num += 1\n",
    "        else:\n",
    "            num = -1\n",
    "            break\n",
    "    else:\n",
    "        if coin >= 10:\n",
    "            coin -= 10\n",
    "            num += 2\n",
    "        else:\n",
    "            coin -= 2\n",
    "            num += 1\n",
    "\n",
    "print(num)"
   ]
  },
  {
   "cell_type": "code",
   "execution_count": null,
   "metadata": {},
   "outputs": [],
   "source": []
  }
 ],
 "metadata": {
  "kernelspec": {
   "display_name": "Python 3",
   "language": "python",
   "name": "python3"
  },
  "language_info": {
   "codemirror_mode": {
    "name": "ipython",
    "version": 3
   },
   "file_extension": ".py",
   "mimetype": "text/x-python",
   "name": "python",
   "nbconvert_exporter": "python",
   "pygments_lexer": "ipython3",
   "version": "3.10.6"
  }
 },
 "nbformat": 4,
 "nbformat_minor": 2
}
