{
 "cells": [
  {
   "cell_type": "code",
   "execution_count": null,
   "metadata": {},
   "outputs": [
    {
     "name": "stdout",
     "output_type": "stream",
     "text": [
      "3\n"
     ]
    }
   ],
   "source": [
    "# 백준 27961\n",
    "\n",
    "n = int(input())\n",
    "num = 0\n",
    "cat_num = 0\n",
    "\n",
    "while cat_num < n:\n",
    "    # 처음에 무조건 1마리 생성\n",
    "    if num == 0:\n",
    "        cat_num += 1\n",
    "    else:\n",
    "        cat_num = cat_num * 2\n",
    "    num += 1\n",
    "print(num)"
   ]
  }
 ],
 "metadata": {
  "kernelspec": {
   "display_name": "Python 3",
   "language": "python",
   "name": "python3"
  },
  "language_info": {
   "codemirror_mode": {
    "name": "ipython",
    "version": 3
   },
   "file_extension": ".py",
   "mimetype": "text/x-python",
   "name": "python",
   "nbconvert_exporter": "python",
   "pygments_lexer": "ipython3",
   "version": "3.10.6"
  }
 },
 "nbformat": 4,
 "nbformat_minor": 2
}
