{
 "cells": [
  {
   "cell_type": "code",
   "execution_count": 39,
   "metadata": {},
   "outputs": [
    {
     "name": "stdout",
     "output_type": "stream",
     "text": [
      "1.000\n"
     ]
    }
   ],
   "source": [
    "import itertools\n",
    "\n",
    "cards = [1, 1, 2, 2, 3, 3, 4, 4, 5, 5, 6, 6, 7, 7, 8, 8, 9, 9, 10, 10]\n",
    "# 영학이의 패를 제외한 카드 리스트 생성\n",
    "a, b = map(int, input().split(\" \"))\n",
    "\n",
    "cards.remove(a)\n",
    "cards.remove(b)\n",
    "card_list = list(itertools.permutations(cards, 2))\n",
    "\n",
    "temp = 0\n",
    "num = 0\n",
    "\n",
    "# 내가 땡이면\n",
    "if a == b:\n",
    "    answer = (153 - (10 - a)) / 153 \n",
    "else:\n",
    "    # 끗이면\n",
    "    my = (a + b) % 10\n",
    "    for card_temp in card_list:\n",
    "        x, y = card_temp\n",
    "        if x == y:  # 상대방이 땡이면\n",
    "            temp += 1\n",
    "        else:\n",
    "            sum_temp = (x + y) % 10\n",
    "            if my > sum_temp:\n",
    "                num += 1\n",
    "            temp += 1\n",
    "    answer = num / temp \n",
    "\n",
    "print(\"{0:.3f}\".format(round(answer, 3)))\n"
   ]
  }
 ],
 "metadata": {
  "kernelspec": {
   "display_name": "Python 3",
   "language": "python",
   "name": "python3"
  },
  "language_info": {
   "codemirror_mode": {
    "name": "ipython",
    "version": 3
   },
   "file_extension": ".py",
   "mimetype": "text/x-python",
   "name": "python",
   "nbconvert_exporter": "python",
   "pygments_lexer": "ipython3",
   "version": "3.9.6"
  }
 },
 "nbformat": 4,
 "nbformat_minor": 2
}
