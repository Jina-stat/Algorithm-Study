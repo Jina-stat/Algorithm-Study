{
 "cells": [
  {
   "cell_type": "code",
   "execution_count": 16,
   "metadata": {},
   "outputs": [
    {
     "name": "stdout",
     "output_type": "stream",
     "text": [
      "198\n"
     ]
    }
   ],
   "source": [
    "# 백준 2231\n",
    "\n",
    "n = int(input())\n",
    "answer = 0\n",
    "for i in range(n):\n",
    "    if sum(list(map(int, str(i)))) + i == n:\n",
    "        # 가장 작은 생성자를 찾아야함. \n",
    "        # 따라서 찾으면 break\n",
    "        answer = i\n",
    "        break\n",
    "\n",
    "# 생성자가 없으면 0 출력\n",
    "print(answer)\n",
    "\n",
    "\n",
    "\n"
   ]
  },
  {
   "cell_type": "code",
   "execution_count": null,
   "metadata": {},
   "outputs": [],
   "source": []
  }
 ],
 "metadata": {
  "kernelspec": {
   "display_name": "Python 3",
   "language": "python",
   "name": "python3"
  },
  "language_info": {
   "codemirror_mode": {
    "name": "ipython",
    "version": 3
   },
   "file_extension": ".py",
   "mimetype": "text/x-python",
   "name": "python",
   "nbconvert_exporter": "python",
   "pygments_lexer": "ipython3",
   "version": "3.9.6"
  }
 },
 "nbformat": 4,
 "nbformat_minor": 2
}
