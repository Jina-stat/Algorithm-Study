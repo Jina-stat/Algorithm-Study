{
 "cells": [
  {
   "cell_type": "code",
   "execution_count": 31,
   "metadata": {},
   "outputs": [
    {
     "name": "stdout",
     "output_type": "stream",
     "text": [
      "5\n"
     ]
    }
   ],
   "source": [
    "import sys\n",
    "import heapq  # 우선순위 큐를 사용\n",
    "s=open(\"baekjoon-1374-data.txt\",\"rt\")\n",
    "data = s.read().splitlines()\n",
    "# data = sys.stdin.read().splitlines()\n",
    "\n",
    "n = int(data[0])\n",
    "class_list = []\n",
    "for i in range(n):\n",
    "    class_list.append(list(map(int, data[i+1].split(\" \"))))\n",
    "\n",
    "# 시작 시간과 종료 시간을 기준으로 정렬\n",
    "class_list.sort(key=lambda x: (x[1], x[2]))\n",
    "\n",
    "# 우선순위 큐를 사용해 강의실 종료 시간 관리\n",
    "class_time = []\n",
    "for _, start, end in class_list:\n",
    "    if class_time and class_time[0] <= start:\n",
    "        # 가장 빨리 끝나는 강의실 재사용 (종료 시간 갱신)\n",
    "        heapq.heappop(class_time)\n",
    "    # 새로운 강의실 추가 또는 갱신된 종료 시간 삽입\n",
    "    heapq.heappush(class_time, end)\n",
    "\n",
    "# 우선순위 큐의 크기가 필요한 강의실의 개수\n",
    "print(len(class_time))\n"
   ]
  }
 ],
 "metadata": {
  "kernelspec": {
   "display_name": "Python 3",
   "language": "python",
   "name": "python3"
  },
  "language_info": {
   "codemirror_mode": {
    "name": "ipython",
    "version": 3
   },
   "file_extension": ".py",
   "mimetype": "text/x-python",
   "name": "python",
   "nbconvert_exporter": "python",
   "pygments_lexer": "ipython3",
   "version": "3.9.6"
  }
 },
 "nbformat": 4,
 "nbformat_minor": 2
}
