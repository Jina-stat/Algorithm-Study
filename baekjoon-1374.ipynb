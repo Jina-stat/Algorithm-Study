{
 "cells": [
  {
   "cell_type": "code",
   "execution_count": 26,
   "metadata": {},
   "outputs": [
    {
     "name": "stdout",
     "output_type": "stream",
     "text": [
      "5\n"
     ]
    }
   ],
   "source": [
    "# 백준 1374\n",
    "\n",
    "import sys\n",
    "data = sys.stdin.read().splitlines()\n",
    "\n",
    "# s=open(\"baekjoon-1374-data.txt\",\"rt\")\n",
    "# data = s.read().splitlines()\n",
    "\n",
    "n = int(data[0])\n",
    "class_list = []\n",
    "for i in range(n):\n",
    "    class_list.append(list(map(int, data[i+1].split(\" \"))))\n",
    "\n",
    "class_list = sorted(class_list, key=lambda x: (x[1], x[2]))\n",
    "\n",
    "class_time = []\n",
    "for _, start, end in class_list:\n",
    "\n",
    "    # 가장 먼저 끝나는 강의실을 확인 (최소 종료 시간)\n",
    "    if len(class_time)!=0 and class_time[0] <= start:\n",
    "        # 가장 먼저 끝나는 강의실의 종료 시간 갱신\n",
    "        class_time[0] = end\n",
    "    \n",
    "    else:\n",
    "        # 새로운 강의실 추가\n",
    "        class_time.append(end)\n",
    "\n",
    "    # 강의실 정렬\n",
    "    class_time.sort()\n",
    "\n",
    "\n",
    "print(len(class_time))\n"
   ]
  },
  {
   "cell_type": "code",
   "execution_count": null,
   "metadata": {},
   "outputs": [],
   "source": []
  }
 ],
 "metadata": {
  "kernelspec": {
   "display_name": "Python 3",
   "language": "python",
   "name": "python3"
  },
  "language_info": {
   "codemirror_mode": {
    "name": "ipython",
    "version": 3
   },
   "file_extension": ".py",
   "mimetype": "text/x-python",
   "name": "python",
   "nbconvert_exporter": "python",
   "pygments_lexer": "ipython3",
   "version": "3.9.6"
  }
 },
 "nbformat": 4,
 "nbformat_minor": 2
}
