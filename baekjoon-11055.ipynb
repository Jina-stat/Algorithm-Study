{
 "cells": [
  {
   "cell_type": "code",
   "execution_count": null,
   "metadata": {},
   "outputs": [],
   "source": [
    "# 백준 11055\n",
    "\n",
    "import sys\n",
    "data = sys.stdin.read().splitlines()\n",
    "# s = open(\"baekjoon-11055-data.txt\", \"rt\")\n",
    "# data = s.read().splitlines()\n",
    "n = int(data[0])  \n",
    "seq_list = list(map(int, data[1].split()))\n",
    "dp = seq_list[:]\n",
    "\n",
    "if n != 1:\n",
    "    for i in range(1, n):\n",
    "        temp = []\n",
    "        for j in range(i):\n",
    "            if seq_list[j] < seq_list[i]:\n",
    "                temp.append(dp[j])\n",
    "        if temp:  # temp가 비어 있지 않은 경우\n",
    "            dp[i] += max(temp)\n",
    "\n",
    "print(max(dp))\n"
   ]
  },
  {
   "cell_type": "code",
   "execution_count": null,
   "metadata": {},
   "outputs": [],
   "source": []
  }
 ],
 "metadata": {
  "kernelspec": {
   "display_name": "Python 3",
   "language": "python",
   "name": "python3"
  },
  "language_info": {
   "codemirror_mode": {
    "name": "ipython",
    "version": 3
   },
   "file_extension": ".py",
   "mimetype": "text/x-python",
   "name": "python",
   "nbconvert_exporter": "python",
   "pygments_lexer": "ipython3",
   "version": "3.10.6"
  }
 },
 "nbformat": 4,
 "nbformat_minor": 2
}
