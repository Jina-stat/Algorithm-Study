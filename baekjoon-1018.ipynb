{
 "cells": [
  {
   "cell_type": "code",
   "execution_count": 19,
   "metadata": {},
   "outputs": [
    {
     "name": "stdout",
     "output_type": "stream",
     "text": [
      "31\n"
     ]
    }
   ],
   "source": [
    "# 백준 1018\n",
    "\n",
    "# import sys\n",
    "# data = sys.stdin.read().splitlines()\n",
    "\n",
    "s=open(\"baekjoon-1018-data.txt\",\"rt\")\n",
    "data = s.read().splitlines()\n",
    "\n",
    "n, m = map(int, data[0].split(\" \"))\n",
    "chess = []\n",
    "change_num = []\n",
    "\n",
    "for i in range(n):\n",
    "    chess.append(list(map(str, data[i+1])))\n",
    "\n",
    "temp1 = ['B', 'W'] * 4\n",
    "temp2 = ['W', 'B'] * 4\n",
    "\n",
    "for i in range(n-8+1):\n",
    "    for j in range(m-8+1):\n",
    "        num1 = 0\n",
    "        num2 = 0\n",
    "        for ii in range(8):\n",
    "            for jj in range(8):\n",
    "                \n",
    "                if jj % 2 == 1:\n",
    "                    if chess[i + ii][j + jj] != temp1[ii]:\n",
    "                        # 첫 줄 첫 행이 B 인경우 바꿔야할 정사각형 수\n",
    "                        num1 += 1\n",
    "\n",
    "                    if chess[i + ii][j + jj] != temp2[ii]:\n",
    "                        # 첫 줄 첫 행이 W 인경우 바꿔야할 정사각형 수\n",
    "                        num2 += 1\n",
    "                else:\n",
    "                    if chess[i + ii][j + jj] != temp2[ii]:\n",
    "                        num1 += 1\n",
    "\n",
    "                    if chess[i + ii][j + jj] != temp1[ii]:\n",
    "                        num2 += 1\n",
    "                    \n",
    "        change_num.append(num1)\n",
    "        change_num.append(num2)\n",
    "\n",
    "print(min(change_num))\n",
    "    \n"
   ]
  },
  {
   "cell_type": "code",
   "execution_count": null,
   "metadata": {},
   "outputs": [],
   "source": []
  }
 ],
 "metadata": {
  "kernelspec": {
   "display_name": "Python 3",
   "language": "python",
   "name": "python3"
  },
  "language_info": {
   "codemirror_mode": {
    "name": "ipython",
    "version": 3
   },
   "file_extension": ".py",
   "mimetype": "text/x-python",
   "name": "python",
   "nbconvert_exporter": "python",
   "pygments_lexer": "ipython3",
   "version": "3.9.6"
  }
 },
 "nbformat": 4,
 "nbformat_minor": 2
}
