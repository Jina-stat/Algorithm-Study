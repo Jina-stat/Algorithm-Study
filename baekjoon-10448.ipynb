{
 "cells": [
  {
   "cell_type": "code",
   "execution_count": 27,
   "metadata": {},
   "outputs": [
    {
     "name": "stdout",
     "output_type": "stream",
     "text": [
      "1\n",
      "0\n",
      "1\n"
     ]
    }
   ],
   "source": [
    "# 백준 10448\n",
    "s=open(\"baekjoon-10448-data.txt\",\"rt\")\n",
    "data = s.read().splitlines()\n",
    "\n",
    "# import sys\n",
    "# data = sys.stdin.read().splitlines()\n",
    "\n",
    "n = int(data[0])\n",
    "test_list = list(map(int, data[1:]))\n",
    "\n",
    "\n",
    "for test in test_list:\n",
    "    answer = 0\n",
    "    break_check = False\n",
    "    triangle_list = [n*(n+1)/2 for n in range(1, test)]\n",
    "    for i in range(len(triangle_list)):\n",
    "        for j in range(i, len(triangle_list)):\n",
    "            if test - triangle_list[i] - triangle_list[j] in triangle_list:\n",
    "                answer = 1\n",
    "                break_check = True\n",
    "                break\n",
    "        if break_check == True:\n",
    "            break\n",
    "    print(answer)\n",
    "        \n",
    "\n",
    "\n",
    "\n"
   ]
  },
  {
   "cell_type": "code",
   "execution_count": null,
   "metadata": {},
   "outputs": [],
   "source": []
  }
 ],
 "metadata": {
  "kernelspec": {
   "display_name": "Python 3",
   "language": "python",
   "name": "python3"
  },
  "language_info": {
   "codemirror_mode": {
    "name": "ipython",
    "version": 3
   },
   "file_extension": ".py",
   "mimetype": "text/x-python",
   "name": "python",
   "nbconvert_exporter": "python",
   "pygments_lexer": "ipython3",
   "version": "3.9.6"
  }
 },
 "nbformat": 4,
 "nbformat_minor": 2
}
