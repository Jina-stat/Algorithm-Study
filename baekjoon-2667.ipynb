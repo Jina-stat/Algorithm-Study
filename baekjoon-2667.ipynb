{
 "cells": [
  {
   "cell_type": "code",
   "execution_count": 39,
   "metadata": {},
   "outputs": [
    {
     "name": "stdout",
     "output_type": "stream",
     "text": [
      "3\n",
      "7\n",
      "8\n",
      "9\n"
     ]
    }
   ],
   "source": [
    "# 백준 2667\n",
    "\n",
    "import sys\n",
    "sys.setrecursionlimit(10**6)\n",
    "data = sys.stdin.read().splitlines()\n",
    "\n",
    "# s = open(\"baekjoon-2667-data.txt\", \"rt\")\n",
    "# data = s.read().splitlines()\n",
    "\n",
    "n = int(data[0])  \n",
    "graph = [[] for _ in range(n)]  \n",
    "visited = [[0 for _ in range(n)] for _ in range(n)]\n",
    "\n",
    "# Input graph\n",
    "index = 0\n",
    "for i in range(n):\n",
    "    index += 1\n",
    "    graph[i] += list(map(int, data[index]))\n",
    "\n",
    "\n",
    "count = 0\n",
    "house_list = []\n",
    "move = [(0, 1), (0, -1), (1, 0), (-1, 0)]\n",
    "\n",
    "def dfs(i, j):\n",
    "    visited[i][j] = 1\n",
    "    house_list[count-1] += 1 # house number \n",
    "    for dx, dy in move:\n",
    "        x = dx + i\n",
    "        y = dy + j\n",
    "        if 0 <= x <= n-1 and 0 <= y <= n-1:\n",
    "            if visited[x][y] == 0 and graph[x][y] == 1:\n",
    "                dfs(x, y)\n",
    "\n",
    "for i in range(n):\n",
    "    for j in range(n):\n",
    "        if graph[i][j] == 1 and visited[i][j] == 0:\n",
    "            count += 1\n",
    "            house_list.append(0)\n",
    "            dfs(i, j)\n",
    "\n",
    "\n",
    "house_list.sort()\n",
    "print(count)\n",
    "for i in house_list:\n",
    "    print(i)"
   ]
  },
  {
   "cell_type": "code",
   "execution_count": 38,
   "metadata": {},
   "outputs": [
    {
     "data": {
      "text/plain": [
       "[1, 8, 9]"
      ]
     },
     "execution_count": 38,
     "metadata": {},
     "output_type": "execute_result"
    }
   ],
   "source": [
    "\n",
    "house_list = [9, 8, 1]\n",
    "house_list.sort()\n",
    "house_list"
   ]
  },
  {
   "cell_type": "code",
   "execution_count": null,
   "metadata": {},
   "outputs": [],
   "source": []
  }
 ],
 "metadata": {
  "kernelspec": {
   "display_name": "Python 3",
   "language": "python",
   "name": "python3"
  },
  "language_info": {
   "codemirror_mode": {
    "name": "ipython",
    "version": 3
   },
   "file_extension": ".py",
   "mimetype": "text/x-python",
   "name": "python",
   "nbconvert_exporter": "python",
   "pygments_lexer": "ipython3",
   "version": "3.9.6"
  }
 },
 "nbformat": 4,
 "nbformat_minor": 2
}
