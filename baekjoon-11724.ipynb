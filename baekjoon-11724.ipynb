{
 "cells": [
  {
   "cell_type": "code",
   "execution_count": 20,
   "metadata": {},
   "outputs": [
    {
     "name": "stdout",
     "output_type": "stream",
     "text": [
      "2\n"
     ]
    }
   ],
   "source": [
    "from collections import deque\n",
    "import sys\n",
    "sys.setrecursionlimit(10**6)\n",
    "data = sys.stdin.read().splitlines()\n",
    "\n",
    "n, m = map(int, data[0].split(\" \"))\n",
    "graph = [[] for _ in range(n + 1)]\n",
    "visited = [0] * (n + 1)  # 방문 여부 확인\n",
    "\n",
    "# 그래프 입력\n",
    "for i in range(m):\n",
    "    u, v = map(int, data[i + 1].split(\" \"))\n",
    "    graph[u].append(v)\n",
    "    graph[v].append(u)\n",
    "\n",
    "# DFS 구현\n",
    "def dfs(v):\n",
    "    visited[v] = 1\n",
    "    for neighbor in graph[v]:\n",
    "        if not visited[neighbor]:\n",
    "            dfs(neighbor)\n",
    "\n",
    "# BFS 구현\n",
    "def bfs(v):\n",
    "    queue = deque([v])\n",
    "    visited[v] = 1\n",
    "    while queue:\n",
    "        node = queue.popleft()\n",
    "        for neighbor in graph[node]:\n",
    "            if not visited[neighbor]:\n",
    "                visited[neighbor] = 1\n",
    "                queue.append(neighbor)\n",
    "\n",
    "# 연결 요소 탐색\n",
    "num_components = 0\n",
    "for node in range(1, n + 1):\n",
    "    if not visited[node]:\n",
    "        num_components += 1\n",
    "        dfs(node)  # 또는 bfs(node)\n",
    "\n",
    "print(num_components)\n"
   ]
  }
 ],
 "metadata": {
  "kernelspec": {
   "display_name": "Python 3",
   "language": "python",
   "name": "python3"
  },
  "language_info": {
   "codemirror_mode": {
    "name": "ipython",
    "version": 3
   },
   "file_extension": ".py",
   "mimetype": "text/x-python",
   "name": "python",
   "nbconvert_exporter": "python",
   "pygments_lexer": "ipython3",
   "version": "3.9.6"
  }
 },
 "nbformat": 4,
 "nbformat_minor": 2
}
